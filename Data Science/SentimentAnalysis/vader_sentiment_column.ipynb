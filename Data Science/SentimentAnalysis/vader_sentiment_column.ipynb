{
 "cells": [
  {
   "cell_type": "markdown",
   "metadata": {},
   "source": [
    "## Vader starts with importing Pandas, Numpy, and NLTK - VADER Sentiment Analyzer"
   ]
  },
  {
   "cell_type": "code",
   "execution_count": 1,
   "metadata": {},
   "outputs": [],
   "source": [
    "import pandas as pd\n",
    "import numpy as np\n",
    "\n",
    "import nltk\n",
    "from vaderSentiment.vaderSentiment import SentimentIntensityAnalyzer\n"
   ]
  },
  {
   "cell_type": "markdown",
   "metadata": {},
   "source": [
    "we take the Chatlog from the Chatlogs folder"
   ]
  },
  {
   "cell_type": "code",
   "execution_count": 2,
   "metadata": {},
   "outputs": [],
   "source": [
    "documentName = 'chatriotgames101821'\n",
    "folderName = '/ChatLogs/chatriotgames/'"
   ]
  },
  {
   "cell_type": "markdown",
   "metadata": {},
   "source": [
    "Reading file with pandas to create a dataframe"
   ]
  },
  {
   "cell_type": "code",
   "execution_count": 3,
   "metadata": {},
   "outputs": [
    {
     "data": {
      "text/html": [
       "<div>\n",
       "<style scoped>\n",
       "    .dataframe tbody tr th:only-of-type {\n",
       "        vertical-align: middle;\n",
       "    }\n",
       "\n",
       "    .dataframe tbody tr th {\n",
       "        vertical-align: top;\n",
       "    }\n",
       "\n",
       "    .dataframe thead th {\n",
       "        text-align: right;\n",
       "    }\n",
       "</style>\n",
       "<table border=\"1\" class=\"dataframe\">\n",
       "  <thead>\n",
       "    <tr style=\"text-align: right;\">\n",
       "      <th></th>\n",
       "      <th>Date</th>\n",
       "      <th>Channel</th>\n",
       "      <th>Username</th>\n",
       "      <th>Message</th>\n",
       "      <th>Tag_owner</th>\n",
       "      <th>Cleanest_message</th>\n",
       "    </tr>\n",
       "  </thead>\n",
       "  <tbody>\n",
       "    <tr>\n",
       "      <th>0</th>\n",
       "      <td>2021-10-18 17:18:04</td>\n",
       "      <td>riotgames</td>\n",
       "      <td>xoocboots</td>\n",
       "      <td>EU i kcuf your women and slap your men LUL &lt;3 ...</td>\n",
       "      <td>0</td>\n",
       "      <td>slap LUL i</td>\n",
       "    </tr>\n",
       "    <tr>\n",
       "      <th>1</th>\n",
       "      <td>2021-10-18 17:18:10</td>\n",
       "      <td>riotgames</td>\n",
       "      <td>secsso23</td>\n",
       "      <td>2-4 GG</td>\n",
       "      <td>0</td>\n",
       "      <td>go</td>\n",
       "    </tr>\n",
       "    <tr>\n",
       "      <th>2</th>\n",
       "      <td>2021-10-18 17:18:10</td>\n",
       "      <td>riotgames</td>\n",
       "      <td>gracejacky</td>\n",
       "      <td>tl had no dmg wtf</td>\n",
       "      <td>0</td>\n",
       "      <td>wif</td>\n",
       "    </tr>\n",
       "    <tr>\n",
       "      <th>3</th>\n",
       "      <td>2021-10-18 17:18:10</td>\n",
       "      <td>riotgames</td>\n",
       "      <td>ritogames69420</td>\n",
       "      <td>Win 4 borfday</td>\n",
       "      <td>0</td>\n",
       "      <td>win</td>\n",
       "    </tr>\n",
       "    <tr>\n",
       "      <th>4</th>\n",
       "      <td>2021-10-18 17:18:10</td>\n",
       "      <td>riotgames</td>\n",
       "      <td>tlev1n</td>\n",
       "      <td>LETS GO TL FeelsStrongMan Clap</td>\n",
       "      <td>0</td>\n",
       "      <td>Clap</td>\n",
       "    </tr>\n",
       "  </tbody>\n",
       "</table>\n",
       "</div>"
      ],
      "text/plain": [
       "                  Date     Channel        Username  \\\n",
       "0  2021-10-18 17:18:04  riotgames        xoocboots   \n",
       "1  2021-10-18 17:18:10  riotgames         secsso23   \n",
       "2  2021-10-18 17:18:10  riotgames       gracejacky   \n",
       "3  2021-10-18 17:18:10  riotgames   ritogames69420   \n",
       "4  2021-10-18 17:18:10  riotgames           tlev1n   \n",
       "\n",
       "                                             Message  Tag_owner  \\\n",
       "0  EU i kcuf your women and slap your men LUL <3 ...          0   \n",
       "1                                             2-4 GG          0   \n",
       "2                                  tl had no dmg wtf          0   \n",
       "3                                      Win 4 borfday          0   \n",
       "4                     LETS GO TL FeelsStrongMan Clap          0   \n",
       "\n",
       "  Cleanest_message  \n",
       "0       slap LUL i  \n",
       "1               go  \n",
       "2              wif  \n",
       "3              win  \n",
       "4             Clap  "
      ]
     },
     "execution_count": 3,
     "metadata": {},
     "output_type": "execute_result"
    }
   ],
   "source": [
    "data = pd.read_csv('..'+ folderName + documentName + 'Clean' + '.csv')\n",
    "data.head()"
   ]
  },
  {
   "cell_type": "markdown",
   "metadata": {},
   "source": [
    "Dropping Tag Owner as it is not needed for VADER"
   ]
  },
  {
   "cell_type": "code",
   "execution_count": 4,
   "metadata": {},
   "outputs": [
    {
     "data": {
      "text/html": [
       "<div>\n",
       "<style scoped>\n",
       "    .dataframe tbody tr th:only-of-type {\n",
       "        vertical-align: middle;\n",
       "    }\n",
       "\n",
       "    .dataframe tbody tr th {\n",
       "        vertical-align: top;\n",
       "    }\n",
       "\n",
       "    .dataframe thead th {\n",
       "        text-align: right;\n",
       "    }\n",
       "</style>\n",
       "<table border=\"1\" class=\"dataframe\">\n",
       "  <thead>\n",
       "    <tr style=\"text-align: right;\">\n",
       "      <th></th>\n",
       "      <th>Date</th>\n",
       "      <th>Channel</th>\n",
       "      <th>Username</th>\n",
       "      <th>Message</th>\n",
       "      <th>Cleanest_message</th>\n",
       "    </tr>\n",
       "  </thead>\n",
       "  <tbody>\n",
       "    <tr>\n",
       "      <th>0</th>\n",
       "      <td>2021-10-18 17:18:04</td>\n",
       "      <td>riotgames</td>\n",
       "      <td>xoocboots</td>\n",
       "      <td>EU i kcuf your women and slap your men LUL &lt;3 ...</td>\n",
       "      <td>slap LUL i</td>\n",
       "    </tr>\n",
       "    <tr>\n",
       "      <th>1</th>\n",
       "      <td>2021-10-18 17:18:10</td>\n",
       "      <td>riotgames</td>\n",
       "      <td>secsso23</td>\n",
       "      <td>2-4 GG</td>\n",
       "      <td>go</td>\n",
       "    </tr>\n",
       "    <tr>\n",
       "      <th>2</th>\n",
       "      <td>2021-10-18 17:18:10</td>\n",
       "      <td>riotgames</td>\n",
       "      <td>gracejacky</td>\n",
       "      <td>tl had no dmg wtf</td>\n",
       "      <td>wif</td>\n",
       "    </tr>\n",
       "    <tr>\n",
       "      <th>3</th>\n",
       "      <td>2021-10-18 17:18:10</td>\n",
       "      <td>riotgames</td>\n",
       "      <td>ritogames69420</td>\n",
       "      <td>Win 4 borfday</td>\n",
       "      <td>win</td>\n",
       "    </tr>\n",
       "    <tr>\n",
       "      <th>4</th>\n",
       "      <td>2021-10-18 17:18:10</td>\n",
       "      <td>riotgames</td>\n",
       "      <td>tlev1n</td>\n",
       "      <td>LETS GO TL FeelsStrongMan Clap</td>\n",
       "      <td>Clap</td>\n",
       "    </tr>\n",
       "  </tbody>\n",
       "</table>\n",
       "</div>"
      ],
      "text/plain": [
       "                  Date     Channel        Username  \\\n",
       "0  2021-10-18 17:18:04  riotgames        xoocboots   \n",
       "1  2021-10-18 17:18:10  riotgames         secsso23   \n",
       "2  2021-10-18 17:18:10  riotgames       gracejacky   \n",
       "3  2021-10-18 17:18:10  riotgames   ritogames69420   \n",
       "4  2021-10-18 17:18:10  riotgames           tlev1n   \n",
       "\n",
       "                                             Message Cleanest_message  \n",
       "0  EU i kcuf your women and slap your men LUL <3 ...       slap LUL i  \n",
       "1                                             2-4 GG               go  \n",
       "2                                  tl had no dmg wtf              wif  \n",
       "3                                      Win 4 borfday              win  \n",
       "4                     LETS GO TL FeelsStrongMan Clap             Clap  "
      ]
     },
     "execution_count": 4,
     "metadata": {},
     "output_type": "execute_result"
    }
   ],
   "source": [
    "data.drop('Tag_owner', axis=1, inplace=True)\n",
    "data.head()"
   ]
  },
  {
   "cell_type": "code",
   "execution_count": 5,
   "metadata": {},
   "outputs": [],
   "source": [
    "analyser = SentimentIntensityAnalyzer()\n",
    "\n"
   ]
  },
  {
   "cell_type": "markdown",
   "metadata": {},
   "source": [
    "### Here we Enter the New_emotes list where we added to the Lexicon, these are emotes that are unique to only Twitch and its 3rd party"
   ]
  },
  {
   "cell_type": "code",
   "execution_count": 6,
   "metadata": {},
   "outputs": [],
   "source": [
    "\n",
    "\n",
    "new_emotes = {\n",
    "    'omegalul': 2,\n",
    "    'lilw': 0,\n",
    "    'monkaw': -3.0,\n",
    "    'waytoodank': 0,\n",
    "    'ez': 2.0,\n",
    "    'clap' : 3.0,\n",
    "    'lul' : 2.0,\n",
    "    'booba' : 1.0,\n",
    "    'pepega' : -3.0,\n",
    "    'feelsgoodman' : 3.0,\n",
    "    'wutfac' : -3.0,\n",
    "    'sadge' : -4.0,\n",
    "    'kreygasm' : 3.0,\n",
    "    'kappa' : 0,\n",
    "    'peeposad' : -4.0,\n",
    "    'pogu' : 4.0,\n",
    "    'truening' : 0,\n",
    "    'lulw' : 2.0,\n",
    "    'feelsbadman' : -3.0,\n",
    "    'pogchamp' : 3.0,\n",
    "    'poggers' : 3.0,\n",
    "    'heyguys' : 2.0,\n",
    "    'pepehands': -2.0,\n",
    "    'rip' : -2.0,\n",
    "    'seemsgood' : 3.0,\n",
    "    'notlikethis' : -2.0,\n",
    "    'clap' : 2.0,\n",
    "    'pog' : 2.0,\n",
    "    'smorc' : 0,\n",
    "    'dansgam' : -4.0,\n",
    "    'ez' : -1.0,\n",
    "    'peeposad' : -2.0,    \n",
    "}"
   ]
  },
  {
   "cell_type": "code",
   "execution_count": 7,
   "metadata": {},
   "outputs": [],
   "source": [
    "analyser.lexicon.update(new_emotes)"
   ]
  },
  {
   "cell_type": "markdown",
   "metadata": {},
   "source": [
    "We enter Polarity scores to the new dataset"
   ]
  },
  {
   "cell_type": "code",
   "execution_count": 8,
   "metadata": {},
   "outputs": [],
   "source": [
    "data['scores'] = data['Cleanest_message'].apply(lambda clean_message:analyser.polarity_scores(clean_message))"
   ]
  },
  {
   "cell_type": "code",
   "execution_count": 9,
   "metadata": {},
   "outputs": [
    {
     "data": {
      "text/html": [
       "<div>\n",
       "<style scoped>\n",
       "    .dataframe tbody tr th:only-of-type {\n",
       "        vertical-align: middle;\n",
       "    }\n",
       "\n",
       "    .dataframe tbody tr th {\n",
       "        vertical-align: top;\n",
       "    }\n",
       "\n",
       "    .dataframe thead th {\n",
       "        text-align: right;\n",
       "    }\n",
       "</style>\n",
       "<table border=\"1\" class=\"dataframe\">\n",
       "  <thead>\n",
       "    <tr style=\"text-align: right;\">\n",
       "      <th></th>\n",
       "      <th>Date</th>\n",
       "      <th>Channel</th>\n",
       "      <th>Username</th>\n",
       "      <th>Message</th>\n",
       "      <th>Cleanest_message</th>\n",
       "      <th>scores</th>\n",
       "    </tr>\n",
       "  </thead>\n",
       "  <tbody>\n",
       "    <tr>\n",
       "      <th>0</th>\n",
       "      <td>2021-10-18 17:18:04</td>\n",
       "      <td>riotgames</td>\n",
       "      <td>xoocboots</td>\n",
       "      <td>EU i kcuf your women and slap your men LUL &lt;3 ...</td>\n",
       "      <td>slap LUL i</td>\n",
       "      <td>{'neg': 0.0, 'neu': 0.158, 'pos': 0.842, 'comp...</td>\n",
       "    </tr>\n",
       "    <tr>\n",
       "      <th>1</th>\n",
       "      <td>2021-10-18 17:18:10</td>\n",
       "      <td>riotgames</td>\n",
       "      <td>secsso23</td>\n",
       "      <td>2-4 GG</td>\n",
       "      <td>go</td>\n",
       "      <td>{'neg': 0.0, 'neu': 1.0, 'pos': 0.0, 'compound...</td>\n",
       "    </tr>\n",
       "    <tr>\n",
       "      <th>2</th>\n",
       "      <td>2021-10-18 17:18:10</td>\n",
       "      <td>riotgames</td>\n",
       "      <td>gracejacky</td>\n",
       "      <td>tl had no dmg wtf</td>\n",
       "      <td>wif</td>\n",
       "      <td>{'neg': 0.0, 'neu': 1.0, 'pos': 0.0, 'compound...</td>\n",
       "    </tr>\n",
       "    <tr>\n",
       "      <th>3</th>\n",
       "      <td>2021-10-18 17:18:10</td>\n",
       "      <td>riotgames</td>\n",
       "      <td>ritogames69420</td>\n",
       "      <td>Win 4 borfday</td>\n",
       "      <td>win</td>\n",
       "      <td>{'neg': 0.0, 'neu': 0.0, 'pos': 1.0, 'compound...</td>\n",
       "    </tr>\n",
       "    <tr>\n",
       "      <th>4</th>\n",
       "      <td>2021-10-18 17:18:10</td>\n",
       "      <td>riotgames</td>\n",
       "      <td>tlev1n</td>\n",
       "      <td>LETS GO TL FeelsStrongMan Clap</td>\n",
       "      <td>Clap</td>\n",
       "      <td>{'neg': 0.0, 'neu': 0.0, 'pos': 1.0, 'compound...</td>\n",
       "    </tr>\n",
       "  </tbody>\n",
       "</table>\n",
       "</div>"
      ],
      "text/plain": [
       "                  Date     Channel        Username  \\\n",
       "0  2021-10-18 17:18:04  riotgames        xoocboots   \n",
       "1  2021-10-18 17:18:10  riotgames         secsso23   \n",
       "2  2021-10-18 17:18:10  riotgames       gracejacky   \n",
       "3  2021-10-18 17:18:10  riotgames   ritogames69420   \n",
       "4  2021-10-18 17:18:10  riotgames           tlev1n   \n",
       "\n",
       "                                             Message Cleanest_message  \\\n",
       "0  EU i kcuf your women and slap your men LUL <3 ...       slap LUL i   \n",
       "1                                             2-4 GG               go   \n",
       "2                                  tl had no dmg wtf              wif   \n",
       "3                                      Win 4 borfday              win   \n",
       "4                     LETS GO TL FeelsStrongMan Clap             Clap   \n",
       "\n",
       "                                              scores  \n",
       "0  {'neg': 0.0, 'neu': 0.158, 'pos': 0.842, 'comp...  \n",
       "1  {'neg': 0.0, 'neu': 1.0, 'pos': 0.0, 'compound...  \n",
       "2  {'neg': 0.0, 'neu': 1.0, 'pos': 0.0, 'compound...  \n",
       "3  {'neg': 0.0, 'neu': 0.0, 'pos': 1.0, 'compound...  \n",
       "4  {'neg': 0.0, 'neu': 0.0, 'pos': 1.0, 'compound...  "
      ]
     },
     "execution_count": 9,
     "metadata": {},
     "output_type": "execute_result"
    }
   ],
   "source": [
    "data.head(5)"
   ]
  },
  {
   "cell_type": "markdown",
   "metadata": {},
   "source": [
    "We calculate the total sentiment polarity scores split between Negative, Neutral, and Positive."
   ]
  },
  {
   "cell_type": "code",
   "execution_count": 10,
   "metadata": {},
   "outputs": [],
   "source": [
    "total=analyser.polarity_scores(data['Cleanest_message'])"
   ]
  },
  {
   "cell_type": "code",
   "execution_count": 11,
   "metadata": {},
   "outputs": [
    {
     "data": {
      "text/plain": [
       "{'neg': 0.138, 'neu': 0.706, 'pos': 0.155, 'compound': 0.9905}"
      ]
     },
     "execution_count": 11,
     "metadata": {},
     "output_type": "execute_result"
    }
   ],
   "source": [
    "total"
   ]
  },
  {
   "cell_type": "markdown",
   "metadata": {},
   "source": [
    "#### This is a Sentiment pie chart that was created before we added the new_emotes to the VADER lexicon"
   ]
  },
  {
   "cell_type": "code",
   "execution_count": 12,
   "metadata": {},
   "outputs": [
    {
     "name": "stderr",
     "output_type": "stream",
     "text": [
      "C:\\Users\\flipi\\.conda\\envs\\bootcamp\\lib\\site-packages\\ipykernel_launcher.py:4: MatplotlibDeprecationWarning: normalize=None does not normalize if the sum is less than 1 but this behavior is deprecated since 3.3 until two minor releases later. After the deprecation period the default value will be normalize=True. To prevent normalization pass normalize=False \n",
      "  after removing the cwd from sys.path.\n"
     ]
    },
    {
     "data": {
      "image/png": "[encoded data removed]",
      "text/plain": [
       "<Figure size 432x288 with 1 Axes>"
      ]
     },
     "metadata": {},
     "output_type": "display_data"
    }
   ],
   "source": [
    "import matplotlib.pyplot as plt\n",
    "labels = ['negative', 'neutral', 'positive']\n",
    "sizes  = [total['neg'], total['neu'], total['pos']]\n",
    "plt.pie(sizes, labels=labels, autopct='%1.1f%%') # autopct='%1.1f%%' gives you percentages printed in every slice.\n",
    "plt.axis('equal')  # Ensures that pie is drawn as a circle.\n",
    "plt.show()"
   ]
  },
  {
   "cell_type": "code",
   "execution_count": 13,
   "metadata": {},
   "outputs": [],
   "source": [
    "pd.set_option('display.max_colwidth', 200)"
   ]
  },
  {
   "cell_type": "markdown",
   "metadata": {},
   "source": [
    "We Bring up the Dataset that includes the score of the Messages of the Twitch Dataset"
   ]
  },
  {
   "cell_type": "code",
   "execution_count": 14,
   "metadata": {},
   "outputs": [
    {
     "data": {
      "text/html": [
       "<div>\n",
       "<style scoped>\n",
       "    .dataframe tbody tr th:only-of-type {\n",
       "        vertical-align: middle;\n",
       "    }\n",
       "\n",
       "    .dataframe tbody tr th {\n",
       "        vertical-align: top;\n",
       "    }\n",
       "\n",
       "    .dataframe thead th {\n",
       "        text-align: right;\n",
       "    }\n",
       "</style>\n",
       "<table border=\"1\" class=\"dataframe\">\n",
       "  <thead>\n",
       "    <tr style=\"text-align: right;\">\n",
       "      <th></th>\n",
       "      <th>Date</th>\n",
       "      <th>Channel</th>\n",
       "      <th>Username</th>\n",
       "      <th>Message</th>\n",
       "      <th>Cleanest_message</th>\n",
       "      <th>scores</th>\n",
       "    </tr>\n",
       "  </thead>\n",
       "  <tbody>\n",
       "    <tr>\n",
       "      <th>0</th>\n",
       "      <td>2021-10-18 17:18:04</td>\n",
       "      <td>riotgames</td>\n",
       "      <td>xoocboots</td>\n",
       "      <td>EU i kcuf your women and slap your men LUL &lt;3 EU i kcuf your women and slap your men LUL &lt;3</td>\n",
       "      <td>slap LUL i</td>\n",
       "      <td>{'neg': 0.0, 'neu': 0.158, 'pos': 0.842, 'compound': 0.6523}</td>\n",
       "    </tr>\n",
       "    <tr>\n",
       "      <th>1</th>\n",
       "      <td>2021-10-18 17:18:10</td>\n",
       "      <td>riotgames</td>\n",
       "      <td>secsso23</td>\n",
       "      <td>2-4 GG</td>\n",
       "      <td>go</td>\n",
       "      <td>{'neg': 0.0, 'neu': 1.0, 'pos': 0.0, 'compound': 0.0}</td>\n",
       "    </tr>\n",
       "    <tr>\n",
       "      <th>2</th>\n",
       "      <td>2021-10-18 17:18:10</td>\n",
       "      <td>riotgames</td>\n",
       "      <td>gracejacky</td>\n",
       "      <td>tl had no dmg wtf</td>\n",
       "      <td>wif</td>\n",
       "      <td>{'neg': 0.0, 'neu': 1.0, 'pos': 0.0, 'compound': 0.0}</td>\n",
       "    </tr>\n",
       "    <tr>\n",
       "      <th>3</th>\n",
       "      <td>2021-10-18 17:18:10</td>\n",
       "      <td>riotgames</td>\n",
       "      <td>ritogames69420</td>\n",
       "      <td>Win 4 borfday</td>\n",
       "      <td>win</td>\n",
       "      <td>{'neg': 0.0, 'neu': 0.0, 'pos': 1.0, 'compound': 0.5859}</td>\n",
       "    </tr>\n",
       "    <tr>\n",
       "      <th>4</th>\n",
       "      <td>2021-10-18 17:18:10</td>\n",
       "      <td>riotgames</td>\n",
       "      <td>tlev1n</td>\n",
       "      <td>LETS GO TL FeelsStrongMan Clap</td>\n",
       "      <td>Clap</td>\n",
       "      <td>{'neg': 0.0, 'neu': 0.0, 'pos': 1.0, 'compound': 0.4588}</td>\n",
       "    </tr>\n",
       "  </tbody>\n",
       "</table>\n",
       "</div>"
      ],
      "text/plain": [
       "                  Date     Channel        Username  \\\n",
       "0  2021-10-18 17:18:04  riotgames        xoocboots   \n",
       "1  2021-10-18 17:18:10  riotgames         secsso23   \n",
       "2  2021-10-18 17:18:10  riotgames       gracejacky   \n",
       "3  2021-10-18 17:18:10  riotgames   ritogames69420   \n",
       "4  2021-10-18 17:18:10  riotgames           tlev1n   \n",
       "\n",
       "                                                                                       Message  \\\n",
       "0  EU i kcuf your women and slap your men LUL <3 EU i kcuf your women and slap your men LUL <3   \n",
       "1                                                                                       2-4 GG   \n",
       "2                                                                            tl had no dmg wtf   \n",
       "3                                                                                Win 4 borfday   \n",
       "4                                                               LETS GO TL FeelsStrongMan Clap   \n",
       "\n",
       "  Cleanest_message  \\\n",
       "0       slap LUL i   \n",
       "1               go   \n",
       "2              wif   \n",
       "3              win   \n",
       "4             Clap   \n",
       "\n",
       "                                                         scores  \n",
       "0  {'neg': 0.0, 'neu': 0.158, 'pos': 0.842, 'compound': 0.6523}  \n",
       "1         {'neg': 0.0, 'neu': 1.0, 'pos': 0.0, 'compound': 0.0}  \n",
       "2         {'neg': 0.0, 'neu': 1.0, 'pos': 0.0, 'compound': 0.0}  \n",
       "3      {'neg': 0.0, 'neu': 0.0, 'pos': 1.0, 'compound': 0.5859}  \n",
       "4      {'neg': 0.0, 'neu': 0.0, 'pos': 1.0, 'compound': 0.4588}  "
      ]
     },
     "execution_count": 14,
     "metadata": {},
     "output_type": "execute_result"
    }
   ],
   "source": [
    "data.head()"
   ]
  },
  {
   "cell_type": "markdown",
   "metadata": {},
   "source": [
    "We add a Compound Score column to the dataframe to get the actual Sentiment Score"
   ]
  },
  {
   "cell_type": "code",
   "execution_count": 15,
   "metadata": {},
   "outputs": [],
   "source": [
    "\n",
    "\n",
    "data['comp_score'] = data['scores'].apply(lambda score_dict: score_dict['compound'])"
   ]
  },
  {
   "cell_type": "code",
   "execution_count": 16,
   "metadata": {
    "scrolled": true
   },
   "outputs": [
    {
     "data": {
      "text/html": [
       "<div>\n",
       "<style scoped>\n",
       "    .dataframe tbody tr th:only-of-type {\n",
       "        vertical-align: middle;\n",
       "    }\n",
       "\n",
       "    .dataframe tbody tr th {\n",
       "        vertical-align: top;\n",
       "    }\n",
       "\n",
       "    .dataframe thead th {\n",
       "        text-align: right;\n",
       "    }\n",
       "</style>\n",
       "<table border=\"1\" class=\"dataframe\">\n",
       "  <thead>\n",
       "    <tr style=\"text-align: right;\">\n",
       "      <th></th>\n",
       "      <th>Date</th>\n",
       "      <th>Channel</th>\n",
       "      <th>Username</th>\n",
       "      <th>Message</th>\n",
       "      <th>Cleanest_message</th>\n",
       "      <th>scores</th>\n",
       "      <th>comp_score</th>\n",
       "    </tr>\n",
       "  </thead>\n",
       "  <tbody>\n",
       "    <tr>\n",
       "      <th>0</th>\n",
       "      <td>2021-10-18 17:18:04</td>\n",
       "      <td>riotgames</td>\n",
       "      <td>xoocboots</td>\n",
       "      <td>EU i kcuf your women and slap your men LUL &lt;3 EU i kcuf your women and slap your men LUL &lt;3</td>\n",
       "      <td>slap LUL i</td>\n",
       "      <td>{'neg': 0.0, 'neu': 0.158, 'pos': 0.842, 'compound': 0.6523}</td>\n",
       "      <td>0.6523</td>\n",
       "    </tr>\n",
       "    <tr>\n",
       "      <th>1</th>\n",
       "      <td>2021-10-18 17:18:10</td>\n",
       "      <td>riotgames</td>\n",
       "      <td>secsso23</td>\n",
       "      <td>2-4 GG</td>\n",
       "      <td>go</td>\n",
       "      <td>{'neg': 0.0, 'neu': 1.0, 'pos': 0.0, 'compound': 0.0}</td>\n",
       "      <td>0.0000</td>\n",
       "    </tr>\n",
       "    <tr>\n",
       "      <th>2</th>\n",
       "      <td>2021-10-18 17:18:10</td>\n",
       "      <td>riotgames</td>\n",
       "      <td>gracejacky</td>\n",
       "      <td>tl had no dmg wtf</td>\n",
       "      <td>wif</td>\n",
       "      <td>{'neg': 0.0, 'neu': 1.0, 'pos': 0.0, 'compound': 0.0}</td>\n",
       "      <td>0.0000</td>\n",
       "    </tr>\n",
       "    <tr>\n",
       "      <th>3</th>\n",
       "      <td>2021-10-18 17:18:10</td>\n",
       "      <td>riotgames</td>\n",
       "      <td>ritogames69420</td>\n",
       "      <td>Win 4 borfday</td>\n",
       "      <td>win</td>\n",
       "      <td>{'neg': 0.0, 'neu': 0.0, 'pos': 1.0, 'compound': 0.5859}</td>\n",
       "      <td>0.5859</td>\n",
       "    </tr>\n",
       "    <tr>\n",
       "      <th>4</th>\n",
       "      <td>2021-10-18 17:18:10</td>\n",
       "      <td>riotgames</td>\n",
       "      <td>tlev1n</td>\n",
       "      <td>LETS GO TL FeelsStrongMan Clap</td>\n",
       "      <td>Clap</td>\n",
       "      <td>{'neg': 0.0, 'neu': 0.0, 'pos': 1.0, 'compound': 0.4588}</td>\n",
       "      <td>0.4588</td>\n",
       "    </tr>\n",
       "  </tbody>\n",
       "</table>\n",
       "</div>"
      ],
      "text/plain": [
       "                  Date     Channel        Username  \\\n",
       "0  2021-10-18 17:18:04  riotgames        xoocboots   \n",
       "1  2021-10-18 17:18:10  riotgames         secsso23   \n",
       "2  2021-10-18 17:18:10  riotgames       gracejacky   \n",
       "3  2021-10-18 17:18:10  riotgames   ritogames69420   \n",
       "4  2021-10-18 17:18:10  riotgames           tlev1n   \n",
       "\n",
       "                                                                                       Message  \\\n",
       "0  EU i kcuf your women and slap your men LUL <3 EU i kcuf your women and slap your men LUL <3   \n",
       "1                                                                                       2-4 GG   \n",
       "2                                                                            tl had no dmg wtf   \n",
       "3                                                                                Win 4 borfday   \n",
       "4                                                               LETS GO TL FeelsStrongMan Clap   \n",
       "\n",
       "  Cleanest_message  \\\n",
       "0       slap LUL i   \n",
       "1               go   \n",
       "2              wif   \n",
       "3              win   \n",
       "4             Clap   \n",
       "\n",
       "                                                         scores  comp_score  \n",
       "0  {'neg': 0.0, 'neu': 0.158, 'pos': 0.842, 'compound': 0.6523}      0.6523  \n",
       "1         {'neg': 0.0, 'neu': 1.0, 'pos': 0.0, 'compound': 0.0}      0.0000  \n",
       "2         {'neg': 0.0, 'neu': 1.0, 'pos': 0.0, 'compound': 0.0}      0.0000  \n",
       "3      {'neg': 0.0, 'neu': 0.0, 'pos': 1.0, 'compound': 0.5859}      0.5859  \n",
       "4      {'neg': 0.0, 'neu': 0.0, 'pos': 1.0, 'compound': 0.4588}      0.4588  "
      ]
     },
     "execution_count": 16,
     "metadata": {},
     "output_type": "execute_result"
    }
   ],
   "source": [
    "data.head()"
   ]
  },
  {
   "cell_type": "code",
   "execution_count": 17,
   "metadata": {},
   "outputs": [],
   "source": [
    "dataCopy = data.copy()"
   ]
  },
  {
   "cell_type": "markdown",
   "metadata": {},
   "source": [
    "We reformat the dates on the Date Column"
   ]
  },
  {
   "cell_type": "code",
   "execution_count": 18,
   "metadata": {},
   "outputs": [],
   "source": [
    "dataCopy.reset_index().set_index('Date')\n",
    "dataCopy['Date'] =  pd.to_datetime(dataCopy['Date'], format='%Y-%m-%d %H:%M:%S')\n",
    "dataCopy = dataCopy.set_index('Date')"
   ]
  },
  {
   "cell_type": "code",
   "execution_count": 19,
   "metadata": {
    "scrolled": true
   },
   "outputs": [
    {
     "data": {
      "text/html": [
       "<div>\n",
       "<style scoped>\n",
       "    .dataframe tbody tr th:only-of-type {\n",
       "        vertical-align: middle;\n",
       "    }\n",
       "\n",
       "    .dataframe tbody tr th {\n",
       "        vertical-align: top;\n",
       "    }\n",
       "\n",
       "    .dataframe thead th {\n",
       "        text-align: right;\n",
       "    }\n",
       "</style>\n",
       "<table border=\"1\" class=\"dataframe\">\n",
       "  <thead>\n",
       "    <tr style=\"text-align: right;\">\n",
       "      <th></th>\n",
       "      <th>Channel</th>\n",
       "      <th>Username</th>\n",
       "      <th>Message</th>\n",
       "      <th>Cleanest_message</th>\n",
       "      <th>scores</th>\n",
       "      <th>comp_score</th>\n",
       "    </tr>\n",
       "    <tr>\n",
       "      <th>Date</th>\n",
       "      <th></th>\n",
       "      <th></th>\n",
       "      <th></th>\n",
       "      <th></th>\n",
       "      <th></th>\n",
       "      <th></th>\n",
       "    </tr>\n",
       "  </thead>\n",
       "  <tbody>\n",
       "    <tr>\n",
       "      <th>2021-10-18 17:18:04</th>\n",
       "      <td>riotgames</td>\n",
       "      <td>xoocboots</td>\n",
       "      <td>EU i kcuf your women and slap your men LUL &lt;3 EU i kcuf your women and slap your men LUL &lt;3</td>\n",
       "      <td>slap LUL i</td>\n",
       "      <td>{'neg': 0.0, 'neu': 0.158, 'pos': 0.842, 'compound': 0.6523}</td>\n",
       "      <td>0.6523</td>\n",
       "    </tr>\n",
       "    <tr>\n",
       "      <th>2021-10-18 17:18:10</th>\n",
       "      <td>riotgames</td>\n",
       "      <td>secsso23</td>\n",
       "      <td>2-4 GG</td>\n",
       "      <td>go</td>\n",
       "      <td>{'neg': 0.0, 'neu': 1.0, 'pos': 0.0, 'compound': 0.0}</td>\n",
       "      <td>0.0000</td>\n",
       "    </tr>\n",
       "    <tr>\n",
       "      <th>2021-10-18 17:18:10</th>\n",
       "      <td>riotgames</td>\n",
       "      <td>gracejacky</td>\n",
       "      <td>tl had no dmg wtf</td>\n",
       "      <td>wif</td>\n",
       "      <td>{'neg': 0.0, 'neu': 1.0, 'pos': 0.0, 'compound': 0.0}</td>\n",
       "      <td>0.0000</td>\n",
       "    </tr>\n",
       "    <tr>\n",
       "      <th>2021-10-18 17:18:10</th>\n",
       "      <td>riotgames</td>\n",
       "      <td>ritogames69420</td>\n",
       "      <td>Win 4 borfday</td>\n",
       "      <td>win</td>\n",
       "      <td>{'neg': 0.0, 'neu': 0.0, 'pos': 1.0, 'compound': 0.5859}</td>\n",
       "      <td>0.5859</td>\n",
       "    </tr>\n",
       "    <tr>\n",
       "      <th>2021-10-18 17:18:10</th>\n",
       "      <td>riotgames</td>\n",
       "      <td>tlev1n</td>\n",
       "      <td>LETS GO TL FeelsStrongMan Clap</td>\n",
       "      <td>Clap</td>\n",
       "      <td>{'neg': 0.0, 'neu': 0.0, 'pos': 1.0, 'compound': 0.4588}</td>\n",
       "      <td>0.4588</td>\n",
       "    </tr>\n",
       "  </tbody>\n",
       "</table>\n",
       "</div>"
      ],
      "text/plain": [
       "                        Channel        Username  \\\n",
       "Date                                              \n",
       "2021-10-18 17:18:04  riotgames        xoocboots   \n",
       "2021-10-18 17:18:10  riotgames         secsso23   \n",
       "2021-10-18 17:18:10  riotgames       gracejacky   \n",
       "2021-10-18 17:18:10  riotgames   ritogames69420   \n",
       "2021-10-18 17:18:10  riotgames           tlev1n   \n",
       "\n",
       "                                                                                                         Message  \\\n",
       "Date                                                                                                               \n",
       "2021-10-18 17:18:04  EU i kcuf your women and slap your men LUL <3 EU i kcuf your women and slap your men LUL <3   \n",
       "2021-10-18 17:18:10                                                                                       2-4 GG   \n",
       "2021-10-18 17:18:10                                                                            tl had no dmg wtf   \n",
       "2021-10-18 17:18:10                                                                                Win 4 borfday   \n",
       "2021-10-18 17:18:10                                                               LETS GO TL FeelsStrongMan Clap   \n",
       "\n",
       "                    Cleanest_message  \\\n",
       "Date                                   \n",
       "2021-10-18 17:18:04       slap LUL i   \n",
       "2021-10-18 17:18:10               go   \n",
       "2021-10-18 17:18:10              wif   \n",
       "2021-10-18 17:18:10              win   \n",
       "2021-10-18 17:18:10             Clap   \n",
       "\n",
       "                                                                           scores  \\\n",
       "Date                                                                                \n",
       "2021-10-18 17:18:04  {'neg': 0.0, 'neu': 0.158, 'pos': 0.842, 'compound': 0.6523}   \n",
       "2021-10-18 17:18:10         {'neg': 0.0, 'neu': 1.0, 'pos': 0.0, 'compound': 0.0}   \n",
       "2021-10-18 17:18:10         {'neg': 0.0, 'neu': 1.0, 'pos': 0.0, 'compound': 0.0}   \n",
       "2021-10-18 17:18:10      {'neg': 0.0, 'neu': 0.0, 'pos': 1.0, 'compound': 0.5859}   \n",
       "2021-10-18 17:18:10      {'neg': 0.0, 'neu': 0.0, 'pos': 1.0, 'compound': 0.4588}   \n",
       "\n",
       "                     comp_score  \n",
       "Date                             \n",
       "2021-10-18 17:18:04      0.6523  \n",
       "2021-10-18 17:18:10      0.0000  \n",
       "2021-10-18 17:18:10      0.0000  \n",
       "2021-10-18 17:18:10      0.5859  \n",
       "2021-10-18 17:18:10      0.4588  "
      ]
     },
     "execution_count": 19,
     "metadata": {},
     "output_type": "execute_result"
    }
   ],
   "source": [
    "dataCopy.head()"
   ]
  },
  {
   "cell_type": "markdown",
   "metadata": {},
   "source": [
    "### We make 4 different Datastes for the Time series Experiment of this project\n",
    "These are all moving averages of the VADER data set of RiotGames Chat\n",
    "\n",
    "First Dataset: Average Minute \n",
    "\n",
    "Second Dataset : Average 30 Second\n",
    "\n",
    "Third Dataset: Average 10 Second\n",
    "\n",
    "Fourth Dataset: Average per Second"
   ]
  },
  {
   "cell_type": "code",
   "execution_count": 20,
   "metadata": {},
   "outputs": [],
   "source": [
    "dataAverageByMinute = dataCopy.groupby(pd.Grouper(freq='T')).mean()"
   ]
  },
  {
   "cell_type": "code",
   "execution_count": 21,
   "metadata": {},
   "outputs": [],
   "source": [
    "dataAverageByMinute.to_csv('..'+ folderName + documentName + 'AverageMinute' + '.csv')"
   ]
  },
  {
   "cell_type": "code",
   "execution_count": 22,
   "metadata": {},
   "outputs": [],
   "source": [
    "dataAverageBy30Second = dataCopy.groupby(pd.Grouper(freq='30S')).mean()"
   ]
  },
  {
   "cell_type": "code",
   "execution_count": 23,
   "metadata": {},
   "outputs": [],
   "source": [
    "dataAverageBy30Second.to_csv('..'+ folderName + documentName + 'Average30Second' + '.csv')"
   ]
  },
  {
   "cell_type": "code",
   "execution_count": 24,
   "metadata": {},
   "outputs": [],
   "source": [
    "dataAverageBy10Second = dataCopy.groupby(pd.Grouper(freq='10S')).mean()"
   ]
  },
  {
   "cell_type": "code",
   "execution_count": 25,
   "metadata": {},
   "outputs": [],
   "source": [
    "dataAverageBy10Second.to_csv('..'+ folderName + documentName + 'Average10Second' + '.csv')"
   ]
  },
  {
   "cell_type": "markdown",
   "metadata": {},
   "source": [
    "data['sentiment']=''\n",
    "\n",
    "data.loc[data.comp_score>0,'sentiment']='POSITIVE'\n",
    "\n",
    "data.loc[data.comp_score==0,'sentiment']='NEUTRAL'\n",
    "\n",
    "data.loc[data.comp_score<0,'sentiment']='NEGATIVE'"
   ]
  },
  {
   "cell_type": "code",
   "execution_count": 27,
   "metadata": {},
   "outputs": [],
   "source": [
    "def categorise_sentiment(sentiment, neg_threshold=-0.05, pos_threshold=0.05):\n",
    "    \"\"\" categorise the sentiment value as positive (1), negative (-1) \n",
    "        or neutral (0) based on given thresholds \"\"\"\n",
    "    if sentiment < neg_threshold:\n",
    "        label = 'negative'\n",
    "    elif sentiment > pos_threshold:\n",
    "        label = 'positive'\n",
    "    else:\n",
    "        label = 'neutral'\n",
    "    return label"
   ]
  },
  {
   "cell_type": "markdown",
   "metadata": {},
   "source": [
    "### We create a new Column with Sentiment to classify \n",
    "\n",
    "that if score is more than 0 it is Positive\n",
    "\n",
    "if score is 0 it is Neutral\n",
    "\n",
    "if score is less than 0 it is Negative "
   ]
  },
  {
   "cell_type": "code",
   "execution_count": 50,
   "metadata": {},
   "outputs": [],
   "source": [
    "data['sentiment'] = data['comp_score'].apply(categorise_sentiment)"
   ]
  },
  {
   "cell_type": "code",
   "execution_count": 51,
   "metadata": {},
   "outputs": [
    {
     "data": {
      "text/html": [
       "<div>\n",
       "<style scoped>\n",
       "    .dataframe tbody tr th:only-of-type {\n",
       "        vertical-align: middle;\n",
       "    }\n",
       "\n",
       "    .dataframe tbody tr th {\n",
       "        vertical-align: top;\n",
       "    }\n",
       "\n",
       "    .dataframe thead th {\n",
       "        text-align: right;\n",
       "    }\n",
       "</style>\n",
       "<table border=\"1\" class=\"dataframe\">\n",
       "  <thead>\n",
       "    <tr style=\"text-align: right;\">\n",
       "      <th></th>\n",
       "      <th>Date</th>\n",
       "      <th>Channel</th>\n",
       "      <th>Username</th>\n",
       "      <th>Message</th>\n",
       "      <th>Tag_owner</th>\n",
       "      <th>Cleanest_message</th>\n",
       "      <th>scores</th>\n",
       "      <th>comp_score</th>\n",
       "      <th>sentiment</th>\n",
       "    </tr>\n",
       "  </thead>\n",
       "  <tbody>\n",
       "    <tr>\n",
       "      <th>0</th>\n",
       "      <td>2021-10-18 17:18:04</td>\n",
       "      <td>riotgames</td>\n",
       "      <td>xoocboots</td>\n",
       "      <td>EU i kcuf your women and slap your men LUL &lt;3 EU i kcuf your women and slap your men LUL &lt;3</td>\n",
       "      <td>0</td>\n",
       "      <td>slap LUL i</td>\n",
       "      <td>{'neg': 0.0, 'neu': 0.158, 'pos': 0.842, 'compound': 0.6523}</td>\n",
       "      <td>0.6523</td>\n",
       "      <td>positive</td>\n",
       "    </tr>\n",
       "    <tr>\n",
       "      <th>1</th>\n",
       "      <td>2021-10-18 17:18:10</td>\n",
       "      <td>riotgames</td>\n",
       "      <td>secsso23</td>\n",
       "      <td>2-4 GG</td>\n",
       "      <td>0</td>\n",
       "      <td>go</td>\n",
       "      <td>{'neg': 0.0, 'neu': 1.0, 'pos': 0.0, 'compound': 0.0}</td>\n",
       "      <td>0.0000</td>\n",
       "      <td>neutral</td>\n",
       "    </tr>\n",
       "    <tr>\n",
       "      <th>2</th>\n",
       "      <td>2021-10-18 17:18:10</td>\n",
       "      <td>riotgames</td>\n",
       "      <td>gracejacky</td>\n",
       "      <td>tl had no dmg wtf</td>\n",
       "      <td>0</td>\n",
       "      <td>wif</td>\n",
       "      <td>{'neg': 0.0, 'neu': 1.0, 'pos': 0.0, 'compound': 0.0}</td>\n",
       "      <td>0.0000</td>\n",
       "      <td>neutral</td>\n",
       "    </tr>\n",
       "    <tr>\n",
       "      <th>3</th>\n",
       "      <td>2021-10-18 17:18:10</td>\n",
       "      <td>riotgames</td>\n",
       "      <td>ritogames69420</td>\n",
       "      <td>Win 4 borfday</td>\n",
       "      <td>0</td>\n",
       "      <td>win</td>\n",
       "      <td>{'neg': 0.0, 'neu': 0.0, 'pos': 1.0, 'compound': 0.5859}</td>\n",
       "      <td>0.5859</td>\n",
       "      <td>positive</td>\n",
       "    </tr>\n",
       "    <tr>\n",
       "      <th>4</th>\n",
       "      <td>2021-10-18 17:18:10</td>\n",
       "      <td>riotgames</td>\n",
       "      <td>tlev1n</td>\n",
       "      <td>LETS GO TL FeelsStrongMan Clap</td>\n",
       "      <td>0</td>\n",
       "      <td>Clap</td>\n",
       "      <td>{'neg': 0.0, 'neu': 0.0, 'pos': 1.0, 'compound': 0.4588}</td>\n",
       "      <td>0.4588</td>\n",
       "      <td>positive</td>\n",
       "    </tr>\n",
       "  </tbody>\n",
       "</table>\n",
       "</div>"
      ],
      "text/plain": [
       "                  Date     Channel        Username  \\\n",
       "0  2021-10-18 17:18:04  riotgames        xoocboots   \n",
       "1  2021-10-18 17:18:10  riotgames         secsso23   \n",
       "2  2021-10-18 17:18:10  riotgames       gracejacky   \n",
       "3  2021-10-18 17:18:10  riotgames   ritogames69420   \n",
       "4  2021-10-18 17:18:10  riotgames           tlev1n   \n",
       "\n",
       "                                                                                       Message  \\\n",
       "0  EU i kcuf your women and slap your men LUL <3 EU i kcuf your women and slap your men LUL <3   \n",
       "1                                                                                       2-4 GG   \n",
       "2                                                                            tl had no dmg wtf   \n",
       "3                                                                                Win 4 borfday   \n",
       "4                                                               LETS GO TL FeelsStrongMan Clap   \n",
       "\n",
       "   Tag_owner Cleanest_message  \\\n",
       "0          0       slap LUL i   \n",
       "1          0               go   \n",
       "2          0              wif   \n",
       "3          0              win   \n",
       "4          0             Clap   \n",
       "\n",
       "                                                         scores  comp_score  \\\n",
       "0  {'neg': 0.0, 'neu': 0.158, 'pos': 0.842, 'compound': 0.6523}      0.6523   \n",
       "1         {'neg': 0.0, 'neu': 1.0, 'pos': 0.0, 'compound': 0.0}      0.0000   \n",
       "2         {'neg': 0.0, 'neu': 1.0, 'pos': 0.0, 'compound': 0.0}      0.0000   \n",
       "3      {'neg': 0.0, 'neu': 0.0, 'pos': 1.0, 'compound': 0.5859}      0.5859   \n",
       "4      {'neg': 0.0, 'neu': 0.0, 'pos': 1.0, 'compound': 0.4588}      0.4588   \n",
       "\n",
       "  sentiment  \n",
       "0  positive  \n",
       "1   neutral  \n",
       "2   neutral  \n",
       "3  positive  \n",
       "4  positive  "
      ]
     },
     "execution_count": 51,
     "metadata": {},
     "output_type": "execute_result"
    }
   ],
   "source": [
    "data.head()"
   ]
  },
  {
   "cell_type": "markdown",
   "metadata": {},
   "source": [
    "#### This is a Sentiment bar plot that was created after we added the new_emotes to the VADER lexicon"
   ]
  },
  {
   "cell_type": "code",
   "execution_count": 52,
   "metadata": {
    "scrolled": true
   },
   "outputs": [
    {
     "data": {
      "text/plain": [
       "<AxesSubplot:title={'center':'sentiment analysis'}>"
      ]
     },
     "execution_count": 52,
     "metadata": {},
     "output_type": "execute_result"
    },
    {
     "data": {
      "image/png": "[encoded data removed]",
      "text/plain": [
       "<Figure size 432x288 with 1 Axes>"
      ]
     },
     "metadata": {
      "needs_background": "light"
     },
     "output_type": "display_data"
    }
   ],
   "source": [
    "data.sentiment.value_counts().plot(kind='bar',title=\"sentiment analysis\")"
   ]
  },
  {
   "cell_type": "markdown",
   "metadata": {},
   "source": [
    "#### This is a Sentiment pie plot that was created after we added the new_emotes to the VADER lexicon"
   ]
  },
  {
   "cell_type": "code",
   "execution_count": 53,
   "metadata": {},
   "outputs": [
    {
     "data": {
      "text/plain": [
       "<AxesSubplot:ylabel='sentiment'>"
      ]
     },
     "execution_count": 53,
     "metadata": {},
     "output_type": "execute_result"
    },
    {
     "data": {
      "image/png": "[encoded data removed]",
      "text/plain": [
       "<Figure size 432x288 with 1 Axes>"
      ]
     },
     "metadata": {},
     "output_type": "display_data"
    }
   ],
   "source": [
    "data.sentiment.value_counts().plot(kind='pie', autopct='%1.0f%%')"
   ]
  },
  {
   "cell_type": "code",
   "execution_count": 24,
   "metadata": {},
   "outputs": [],
   "source": [
    "data.to_csv ('..'+ folderName + documentName + 'Sentiment Analysis' + '.csv', index = False, header=True)"
   ]
  },
  {
   "cell_type": "markdown",
   "metadata": {},
   "source": [
    "### This is a Frequency Histogram of the Sentiment of the Dataset"
   ]
  },
  {
   "cell_type": "code",
   "execution_count": 25,
   "metadata": {},
   "outputs": [
    {
     "data": {
      "text/plain": [
       "<AxesSubplot:ylabel='Frequency'>"
      ]
     },
     "execution_count": 25,
     "metadata": {},
     "output_type": "execute_result"
    },
    {
     "data": {
      "image/png": "[encoded data removed]",
      "text/plain": [
       "<Figure size 432x288 with 1 Axes>"
      ]
     },
     "metadata": {
      "needs_background": "light"
     },
     "output_type": "display_data"
    }
   ],
   "source": [
    "%matplotlib inline\n",
    "\n",
    "\n",
    "data['comp_score'].plot(kind='hist')"
   ]
  },
  {
   "cell_type": "markdown",
   "metadata": {},
   "source": [
    "## In this section we use TfidfVectorizer for experimental purposes"
   ]
  },
  {
   "cell_type": "code",
   "execution_count": 24,
   "metadata": {},
   "outputs": [],
   "source": [
    "X=data['Cleanest_message']\n",
    "y=data['sentiment']\n",
    "from sklearn.model_selection import train_test_split\n",
    "\n",
    "X_train, X_test, y_train, y_test = train_test_split(X, y, test_size=0.33, random_state=42)"
   ]
  },
  {
   "cell_type": "markdown",
   "metadata": {},
   "source": [
    "Splitting Data"
   ]
  },
  {
   "cell_type": "code",
   "execution_count": 25,
   "metadata": {},
   "outputs": [
    {
     "data": {
      "text/plain": [
       "10675    positive\n",
       "10676    negative\n",
       "10677    negative\n",
       "10678    negative\n",
       "10679    positive\n",
       "Name: sentiment, dtype: object"
      ]
     },
     "execution_count": 25,
     "metadata": {},
     "output_type": "execute_result"
    }
   ],
   "source": [
    "y.tail()"
   ]
  },
  {
   "cell_type": "code",
   "execution_count": 26,
   "metadata": {},
   "outputs": [
    {
     "data": {
      "text/plain": [
       "0    slap LUL i\n",
       "1            go\n",
       "2           wif\n",
       "3           win\n",
       "4          Clap\n",
       "Name: Cleanest_message, dtype: object"
      ]
     },
     "execution_count": 26,
     "metadata": {},
     "output_type": "execute_result"
    }
   ],
   "source": [
    "X.head()"
   ]
  },
  {
   "cell_type": "code",
   "execution_count": 27,
   "metadata": {},
   "outputs": [
    {
     "data": {
      "text/plain": [
       "(7155,)"
      ]
     },
     "execution_count": 27,
     "metadata": {},
     "output_type": "execute_result"
    }
   ],
   "source": [
    "X_train.shape"
   ]
  },
  {
   "cell_type": "code",
   "execution_count": 28,
   "metadata": {},
   "outputs": [
    {
     "data": {
      "text/plain": [
       "(3525,)"
      ]
     },
     "execution_count": 28,
     "metadata": {},
     "output_type": "execute_result"
    }
   ],
   "source": [
    "y_test.shape"
   ]
  },
  {
   "cell_type": "markdown",
   "metadata": {},
   "source": [
    "https://scikit-learn.org/stable/modules/generated/sklearn.feature_extraction.text.TfidfVectorizer.html"
   ]
  },
  {
   "cell_type": "code",
   "execution_count": 29,
   "metadata": {},
   "outputs": [
    {
     "data": {
      "text/plain": [
       "(7155, 317)"
      ]
     },
     "execution_count": 29,
     "metadata": {},
     "output_type": "execute_result"
    }
   ],
   "source": [
    "from sklearn.feature_extraction.text import TfidfVectorizer\n",
    "vectorizer = TfidfVectorizer()\n",
    "\n",
    "X_train_tfidf = vectorizer.fit_transform(X_train) \n",
    "X_train_tfidf.shape"
   ]
  },
  {
   "cell_type": "markdown",
   "metadata": {},
   "source": [
    "Using TfidfVectorizer"
   ]
  },
  {
   "cell_type": "code",
   "execution_count": 30,
   "metadata": {},
   "outputs": [],
   "source": [
    "#print(X_train_tfidf)"
   ]
  },
  {
   "cell_type": "code",
   "execution_count": 31,
   "metadata": {},
   "outputs": [
    {
     "data": {
      "text/plain": [
       "LinearSVC()"
      ]
     },
     "execution_count": 31,
     "metadata": {},
     "output_type": "execute_result"
    }
   ],
   "source": [
    "from sklearn.svm import LinearSVC\n",
    "clf = LinearSVC()\n",
    "clf.fit(X_train_tfidf,y_train)"
   ]
  },
  {
   "cell_type": "markdown",
   "metadata": {},
   "source": [
    "Also using Linear SVC for comparison purposes"
   ]
  },
  {
   "cell_type": "code",
   "execution_count": 32,
   "metadata": {},
   "outputs": [
    {
     "data": {
      "text/plain": [
       "Pipeline(steps=[('tfidf', TfidfVectorizer()), ('clf', LinearSVC())])"
      ]
     },
     "execution_count": 32,
     "metadata": {},
     "output_type": "execute_result"
    }
   ],
   "source": [
    "from sklearn.pipeline import Pipeline\n",
    "\n",
    "\n",
    "text_clf = Pipeline([('tfidf', TfidfVectorizer()),\n",
    "                     ('clf', LinearSVC()),\n",
    "])\n",
    "\n",
    "# Feed the training data through the pipeline\n",
    "text_clf.fit(X_train, y_train) "
   ]
  },
  {
   "cell_type": "markdown",
   "metadata": {},
   "source": [
    "Only training set has been vectorized into a full vocabulary.\n",
    "In order to perform an analysis on test set scikit-learn offers a Pipeline that behaves like a compound classifier"
   ]
  },
  {
   "cell_type": "code",
   "execution_count": 34,
   "metadata": {},
   "outputs": [],
   "source": [
    "predictions = text_clf.predict(X_test)"
   ]
  },
  {
   "cell_type": "code",
   "execution_count": 35,
   "metadata": {},
   "outputs": [
    {
     "name": "stdout",
     "output_type": "stream",
     "text": [
      "[[ 832   24   14]\n",
      " [   4 1143    9]\n",
      " [   5   32 1462]]\n"
     ]
    }
   ],
   "source": [
    "from sklearn import metrics\n",
    "print(metrics.confusion_matrix(y_test,predictions))"
   ]
  },
  {
   "cell_type": "markdown",
   "metadata": {},
   "source": [
    "These are the metrics from the predictions made"
   ]
  },
  {
   "cell_type": "code",
   "execution_count": 36,
   "metadata": {},
   "outputs": [
    {
     "name": "stdout",
     "output_type": "stream",
     "text": [
      "0.9750354609929078\n"
     ]
    }
   ],
   "source": [
    "print(metrics.accuracy_score(y_test,predictions))"
   ]
  },
  {
   "cell_type": "markdown",
   "metadata": {},
   "source": [
    "This is the accuracy score"
   ]
  },
  {
   "cell_type": "code",
   "execution_count": null,
   "metadata": {},
   "outputs": [],
   "source": [
    "myreview = \"Booba Booba\""
   ]
  },
  {
   "cell_type": "code",
   "execution_count": 38,
   "metadata": {},
   "outputs": [
    {
     "name": "stdout",
     "output_type": "stream",
     "text": [
      "['positive']\n"
     ]
    }
   ],
   "source": [
    "print(text_clf.predict([myreview]))"
   ]
  },
  {
   "cell_type": "markdown",
   "metadata": {},
   "source": [
    "https://www.koreascience.or.kr/article/JAKO202024758671657.pdf #why choose TFIDF vs WORD2VEC"
   ]
  },
  {
   "cell_type": "code",
   "execution_count": 26,
   "metadata": {},
   "outputs": [],
   "source": [
    "from wordcloud import WordCloud\n",
    "import matplotlib.pyplot as plt"
   ]
  },
  {
   "cell_type": "markdown",
   "metadata": {},
   "source": [
    "Importing WordCloud Library"
   ]
  },
  {
   "cell_type": "code",
   "execution_count": 27,
   "metadata": {},
   "outputs": [],
   "source": [
    "wordcloud = WordCloud().generate(' '.join(data['Cleanest_message']))"
   ]
  },
  {
   "cell_type": "code",
   "execution_count": 28,
   "metadata": {},
   "outputs": [
    {
     "data": {
      "image/png": "[encoded data removed]",
      "text/plain": [
       "<Figure size 576x576 with 1 Axes>"
      ]
     },
     "metadata": {
      "needs_background": "light"
     },
     "output_type": "display_data"
    }
   ],
   "source": [
    "plt.figure(figsize = (8, 8), facecolor = None) \n",
    "plt.imshow(wordcloud) \n",
    "plt.axis(\"off\") \n",
    "plt.tight_layout(pad = 0)\n",
    "plt.show()"
   ]
  },
  {
   "cell_type": "markdown",
   "metadata": {},
   "source": [
    "### WordCloudiis a Visualization tool to exhibit the most common phrases in the Dataset"
   ]
  },
  {
   "cell_type": "code",
   "execution_count": 29,
   "metadata": {},
   "outputs": [
    {
     "data": {
      "text/plain": [
       "<AxesSubplot:>"
      ]
     },
     "execution_count": 29,
     "metadata": {},
     "output_type": "execute_result"
    },
    {
     "data": {
      "image/png": "[encoded data removed]",
      "text/plain": [
       "<Figure size 432x288 with 1 Axes>"
      ]
     },
     "metadata": {
      "needs_background": "light"
     },
     "output_type": "display_data"
    }
   ],
   "source": [
    "from textstat import flesch_reading_ease\n",
    "\n",
    "data['Cleanest_message'].\\\n",
    "   apply(lambda x : flesch_reading_ease(x)).hist()"
   ]
  },
  {
   "cell_type": "markdown",
   "metadata": {},
   "source": [
    "### Using Textstat library and import flesch_reading_ease\n",
    "\n",
    "Readability index is a numeric value that indicates how difficult (or easy) it is to read and understand a text\n",
    "Almost all of the readability scores fall above 60"
   ]
  },
  {
   "cell_type": "code",
   "execution_count": null,
   "metadata": {},
   "outputs": [],
   "source": []
  }
 ],
 "metadata": {
  "kernelspec": {
   "display_name": "Python 3 (ipykernel)",
   "language": "python",
   "name": "python3"
  },
  "language_info": {
   "codemirror_mode": {
    "name": "ipython",
    "version": 3
   },
   "file_extension": ".py",
   "mimetype": "text/x-python",
   "name": "python",
   "nbconvert_exporter": "python",
   "pygments_lexer": "ipython3",
   "version": "3.9.6"
  }
 },
 "nbformat": 4,
 "nbformat_minor": 4
}
